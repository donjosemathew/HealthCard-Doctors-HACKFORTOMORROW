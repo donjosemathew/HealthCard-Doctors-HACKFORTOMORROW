{
  "nbformat": 4,
  "nbformat_minor": 0,
  "metadata": {
    "colab": {
      "name": "HealthCardDiabetes.ipynb",
      "provenance": [],
      "collapsed_sections": []
    },
    "kernelspec": {
      "name": "python3",
      "display_name": "Python 3"
    },
    "language_info": {
      "name": "python"
    }
  },
  "cells": [
    {
      "cell_type": "markdown",
      "metadata": {
        "id": "hgVG4XzA3BpG"
      },
      "source": [
        "# ***Diabetes Prediction***"
      ]
    },
    {
      "cell_type": "markdown",
      "metadata": {
        "id": "1xuS1I1H6Jtf"
      },
      "source": [
        "**Import Libraries**"
      ]
    },
    {
      "cell_type": "code",
      "metadata": {
        "id": "Yr8S23K_28vq"
      },
      "source": [
        "import numpy as np\n",
        "import pandas as pd\n",
        "import matplotlib.pyplot as plt\n",
        "import seaborn as sns\n",
        "import tensorflow as tf\n",
        "import pickle\n",
        "from sklearn.model_selection import train_test_split\n",
        "from tensorflow.keras.models import Sequential,load_model\n",
        "from tensorflow.keras.layers import Activation, Dropout, Dense, BatchNormalization\n",
        "from tensorflow.keras.callbacks import EarlyStopping"
      ],
      "execution_count": 87,
      "outputs": []
    },
    {
      "cell_type": "markdown",
      "metadata": {
        "id": "NimNfPs-3sOE"
      },
      "source": [
        "**Import & Analyse Data**"
      ]
    },
    {
      "cell_type": "code",
      "metadata": {
        "colab": {
          "base_uri": "https://localhost:8080/",
          "height": 419
        },
        "id": "Xj9uMNxr3q9P",
        "outputId": "0a5e5f37-fc9e-40da-e364-740c12f5d633"
      },
      "source": [
        "diab_data= pd.read_csv('/content/diabetes.csv')\n",
        "diab_data"
      ],
      "execution_count": 53,
      "outputs": [
        {
          "output_type": "execute_result",
          "data": {
            "text/html": [
              "<div>\n",
              "<style scoped>\n",
              "    .dataframe tbody tr th:only-of-type {\n",
              "        vertical-align: middle;\n",
              "    }\n",
              "\n",
              "    .dataframe tbody tr th {\n",
              "        vertical-align: top;\n",
              "    }\n",
              "\n",
              "    .dataframe thead th {\n",
              "        text-align: right;\n",
              "    }\n",
              "</style>\n",
              "<table border=\"1\" class=\"dataframe\">\n",
              "  <thead>\n",
              "    <tr style=\"text-align: right;\">\n",
              "      <th></th>\n",
              "      <th>Pregnancies</th>\n",
              "      <th>Glucose</th>\n",
              "      <th>BloodPressure</th>\n",
              "      <th>SkinThickness</th>\n",
              "      <th>Insulin</th>\n",
              "      <th>BMI</th>\n",
              "      <th>DiabetesPedigreeFunction</th>\n",
              "      <th>Age</th>\n",
              "      <th>Outcome</th>\n",
              "    </tr>\n",
              "  </thead>\n",
              "  <tbody>\n",
              "    <tr>\n",
              "      <th>0</th>\n",
              "      <td>6</td>\n",
              "      <td>148</td>\n",
              "      <td>72</td>\n",
              "      <td>35</td>\n",
              "      <td>0</td>\n",
              "      <td>33.6</td>\n",
              "      <td>0.627</td>\n",
              "      <td>50</td>\n",
              "      <td>1</td>\n",
              "    </tr>\n",
              "    <tr>\n",
              "      <th>1</th>\n",
              "      <td>1</td>\n",
              "      <td>85</td>\n",
              "      <td>66</td>\n",
              "      <td>29</td>\n",
              "      <td>0</td>\n",
              "      <td>26.6</td>\n",
              "      <td>0.351</td>\n",
              "      <td>31</td>\n",
              "      <td>0</td>\n",
              "    </tr>\n",
              "    <tr>\n",
              "      <th>2</th>\n",
              "      <td>8</td>\n",
              "      <td>183</td>\n",
              "      <td>64</td>\n",
              "      <td>0</td>\n",
              "      <td>0</td>\n",
              "      <td>23.3</td>\n",
              "      <td>0.672</td>\n",
              "      <td>32</td>\n",
              "      <td>1</td>\n",
              "    </tr>\n",
              "    <tr>\n",
              "      <th>3</th>\n",
              "      <td>1</td>\n",
              "      <td>89</td>\n",
              "      <td>66</td>\n",
              "      <td>23</td>\n",
              "      <td>94</td>\n",
              "      <td>28.1</td>\n",
              "      <td>0.167</td>\n",
              "      <td>21</td>\n",
              "      <td>0</td>\n",
              "    </tr>\n",
              "    <tr>\n",
              "      <th>4</th>\n",
              "      <td>0</td>\n",
              "      <td>137</td>\n",
              "      <td>40</td>\n",
              "      <td>35</td>\n",
              "      <td>168</td>\n",
              "      <td>43.1</td>\n",
              "      <td>2.288</td>\n",
              "      <td>33</td>\n",
              "      <td>1</td>\n",
              "    </tr>\n",
              "    <tr>\n",
              "      <th>...</th>\n",
              "      <td>...</td>\n",
              "      <td>...</td>\n",
              "      <td>...</td>\n",
              "      <td>...</td>\n",
              "      <td>...</td>\n",
              "      <td>...</td>\n",
              "      <td>...</td>\n",
              "      <td>...</td>\n",
              "      <td>...</td>\n",
              "    </tr>\n",
              "    <tr>\n",
              "      <th>763</th>\n",
              "      <td>10</td>\n",
              "      <td>101</td>\n",
              "      <td>76</td>\n",
              "      <td>48</td>\n",
              "      <td>180</td>\n",
              "      <td>32.9</td>\n",
              "      <td>0.171</td>\n",
              "      <td>63</td>\n",
              "      <td>0</td>\n",
              "    </tr>\n",
              "    <tr>\n",
              "      <th>764</th>\n",
              "      <td>2</td>\n",
              "      <td>122</td>\n",
              "      <td>70</td>\n",
              "      <td>27</td>\n",
              "      <td>0</td>\n",
              "      <td>36.8</td>\n",
              "      <td>0.340</td>\n",
              "      <td>27</td>\n",
              "      <td>0</td>\n",
              "    </tr>\n",
              "    <tr>\n",
              "      <th>765</th>\n",
              "      <td>5</td>\n",
              "      <td>121</td>\n",
              "      <td>72</td>\n",
              "      <td>23</td>\n",
              "      <td>112</td>\n",
              "      <td>26.2</td>\n",
              "      <td>0.245</td>\n",
              "      <td>30</td>\n",
              "      <td>0</td>\n",
              "    </tr>\n",
              "    <tr>\n",
              "      <th>766</th>\n",
              "      <td>1</td>\n",
              "      <td>126</td>\n",
              "      <td>60</td>\n",
              "      <td>0</td>\n",
              "      <td>0</td>\n",
              "      <td>30.1</td>\n",
              "      <td>0.349</td>\n",
              "      <td>47</td>\n",
              "      <td>1</td>\n",
              "    </tr>\n",
              "    <tr>\n",
              "      <th>767</th>\n",
              "      <td>1</td>\n",
              "      <td>93</td>\n",
              "      <td>70</td>\n",
              "      <td>31</td>\n",
              "      <td>0</td>\n",
              "      <td>30.4</td>\n",
              "      <td>0.315</td>\n",
              "      <td>23</td>\n",
              "      <td>0</td>\n",
              "    </tr>\n",
              "  </tbody>\n",
              "</table>\n",
              "<p>768 rows × 9 columns</p>\n",
              "</div>"
            ],
            "text/plain": [
              "     Pregnancies  Glucose  ...  Age  Outcome\n",
              "0              6      148  ...   50        1\n",
              "1              1       85  ...   31        0\n",
              "2              8      183  ...   32        1\n",
              "3              1       89  ...   21        0\n",
              "4              0      137  ...   33        1\n",
              "..           ...      ...  ...  ...      ...\n",
              "763           10      101  ...   63        0\n",
              "764            2      122  ...   27        0\n",
              "765            5      121  ...   30        0\n",
              "766            1      126  ...   47        1\n",
              "767            1       93  ...   23        0\n",
              "\n",
              "[768 rows x 9 columns]"
            ]
          },
          "metadata": {},
          "execution_count": 53
        }
      ]
    },
    {
      "cell_type": "code",
      "metadata": {
        "colab": {
          "base_uri": "https://localhost:8080/",
          "height": 328
        },
        "id": "nkoagimx4Rhm",
        "outputId": "c11dfee4-b542-4806-abf1-bff23397d559"
      },
      "source": [
        "diab_data.corr().style.background_gradient(cmap='coolwarm')"
      ],
      "execution_count": 10,
      "outputs": [
        {
          "output_type": "execute_result",
          "data": {
            "text/html": [
              "<style  type=\"text/css\" >\n",
              "#T_d4423b5a_4d18_11ec_aee3_0242ac1c0002row0_col0,#T_d4423b5a_4d18_11ec_aee3_0242ac1c0002row1_col1,#T_d4423b5a_4d18_11ec_aee3_0242ac1c0002row2_col2,#T_d4423b5a_4d18_11ec_aee3_0242ac1c0002row3_col3,#T_d4423b5a_4d18_11ec_aee3_0242ac1c0002row4_col4,#T_d4423b5a_4d18_11ec_aee3_0242ac1c0002row5_col5,#T_d4423b5a_4d18_11ec_aee3_0242ac1c0002row6_col6,#T_d4423b5a_4d18_11ec_aee3_0242ac1c0002row7_col7,#T_d4423b5a_4d18_11ec_aee3_0242ac1c0002row8_col8{\n",
              "            background-color:  #b40426;\n",
              "            color:  #f1f1f1;\n",
              "        }#T_d4423b5a_4d18_11ec_aee3_0242ac1c0002row0_col1{\n",
              "            background-color:  #516ddb;\n",
              "            color:  #000000;\n",
              "        }#T_d4423b5a_4d18_11ec_aee3_0242ac1c0002row0_col2{\n",
              "            background-color:  #5a78e4;\n",
              "            color:  #000000;\n",
              "        }#T_d4423b5a_4d18_11ec_aee3_0242ac1c0002row0_col3,#T_d4423b5a_4d18_11ec_aee3_0242ac1c0002row7_col4{\n",
              "            background-color:  #4358cb;\n",
              "            color:  #f1f1f1;\n",
              "        }#T_d4423b5a_4d18_11ec_aee3_0242ac1c0002row0_col4,#T_d4423b5a_4d18_11ec_aee3_0242ac1c0002row0_col5,#T_d4423b5a_4d18_11ec_aee3_0242ac1c0002row0_col6,#T_d4423b5a_4d18_11ec_aee3_0242ac1c0002row2_col8,#T_d4423b5a_4d18_11ec_aee3_0242ac1c0002row3_col0,#T_d4423b5a_4d18_11ec_aee3_0242ac1c0002row3_col1,#T_d4423b5a_4d18_11ec_aee3_0242ac1c0002row3_col7,#T_d4423b5a_4d18_11ec_aee3_0242ac1c0002row6_col2,#T_d4423b5a_4d18_11ec_aee3_0242ac1c0002row7_col3{\n",
              "            background-color:  #3b4cc0;\n",
              "            color:  #f1f1f1;\n",
              "        }#T_d4423b5a_4d18_11ec_aee3_0242ac1c0002row0_col7{\n",
              "            background-color:  #f1cdba;\n",
              "            color:  #000000;\n",
              "        }#T_d4423b5a_4d18_11ec_aee3_0242ac1c0002row0_col8,#T_d4423b5a_4d18_11ec_aee3_0242ac1c0002row1_col6{\n",
              "            background-color:  #6f92f3;\n",
              "            color:  #000000;\n",
              "        }#T_d4423b5a_4d18_11ec_aee3_0242ac1c0002row1_col0{\n",
              "            background-color:  #799cf8;\n",
              "            color:  #000000;\n",
              "        }#T_d4423b5a_4d18_11ec_aee3_0242ac1c0002row1_col2,#T_d4423b5a_4d18_11ec_aee3_0242ac1c0002row6_col8{\n",
              "            background-color:  #5e7de7;\n",
              "            color:  #000000;\n",
              "        }#T_d4423b5a_4d18_11ec_aee3_0242ac1c0002row1_col3{\n",
              "            background-color:  #6b8df0;\n",
              "            color:  #000000;\n",
              "        }#T_d4423b5a_4d18_11ec_aee3_0242ac1c0002row1_col4{\n",
              "            background-color:  #b9d0f9;\n",
              "            color:  #000000;\n",
              "        }#T_d4423b5a_4d18_11ec_aee3_0242ac1c0002row1_col5,#T_d4423b5a_4d18_11ec_aee3_0242ac1c0002row3_col6{\n",
              "            background-color:  #7ea1fa;\n",
              "            color:  #000000;\n",
              "        }#T_d4423b5a_4d18_11ec_aee3_0242ac1c0002row1_col7{\n",
              "            background-color:  #abc8fd;\n",
              "            color:  #000000;\n",
              "        }#T_d4423b5a_4d18_11ec_aee3_0242ac1c0002row1_col8{\n",
              "            background-color:  #c9d7f0;\n",
              "            color:  #000000;\n",
              "        }#T_d4423b5a_4d18_11ec_aee3_0242ac1c0002row2_col0,#T_d4423b5a_4d18_11ec_aee3_0242ac1c0002row7_col2{\n",
              "            background-color:  #7da0f9;\n",
              "            color:  #000000;\n",
              "        }#T_d4423b5a_4d18_11ec_aee3_0242ac1c0002row2_col1{\n",
              "            background-color:  #5977e3;\n",
              "            color:  #000000;\n",
              "        }#T_d4423b5a_4d18_11ec_aee3_0242ac1c0002row2_col3{\n",
              "            background-color:  #9abbff;\n",
              "            color:  #000000;\n",
              "        }#T_d4423b5a_4d18_11ec_aee3_0242ac1c0002row2_col4{\n",
              "            background-color:  #6a8bef;\n",
              "            color:  #000000;\n",
              "        }#T_d4423b5a_4d18_11ec_aee3_0242ac1c0002row2_col5,#T_d4423b5a_4d18_11ec_aee3_0242ac1c0002row6_col3{\n",
              "            background-color:  #93b5fe;\n",
              "            color:  #000000;\n",
              "        }#T_d4423b5a_4d18_11ec_aee3_0242ac1c0002row2_col6{\n",
              "            background-color:  #506bda;\n",
              "            color:  #000000;\n",
              "        }#T_d4423b5a_4d18_11ec_aee3_0242ac1c0002row2_col7{\n",
              "            background-color:  #a5c3fe;\n",
              "            color:  #000000;\n",
              "        }#T_d4423b5a_4d18_11ec_aee3_0242ac1c0002row3_col2,#T_d4423b5a_4d18_11ec_aee3_0242ac1c0002row5_col1{\n",
              "            background-color:  #7295f4;\n",
              "            color:  #000000;\n",
              "        }#T_d4423b5a_4d18_11ec_aee3_0242ac1c0002row3_col4{\n",
              "            background-color:  #d6dce4;\n",
              "            color:  #000000;\n",
              "        }#T_d4423b5a_4d18_11ec_aee3_0242ac1c0002row3_col5{\n",
              "            background-color:  #bad0f8;\n",
              "            color:  #000000;\n",
              "        }#T_d4423b5a_4d18_11ec_aee3_0242ac1c0002row3_col8{\n",
              "            background-color:  #3d50c3;\n",
              "            color:  #f1f1f1;\n",
              "        }#T_d4423b5a_4d18_11ec_aee3_0242ac1c0002row4_col0{\n",
              "            background-color:  #3c4ec2;\n",
              "            color:  #f1f1f1;\n",
              "        }#T_d4423b5a_4d18_11ec_aee3_0242ac1c0002row4_col1{\n",
              "            background-color:  #9bbcff;\n",
              "            color:  #000000;\n",
              "        }#T_d4423b5a_4d18_11ec_aee3_0242ac1c0002row4_col2{\n",
              "            background-color:  #4961d2;\n",
              "            color:  #f1f1f1;\n",
              "        }#T_d4423b5a_4d18_11ec_aee3_0242ac1c0002row4_col3{\n",
              "            background-color:  #dbdcde;\n",
              "            color:  #000000;\n",
              "        }#T_d4423b5a_4d18_11ec_aee3_0242ac1c0002row4_col5{\n",
              "            background-color:  #7597f6;\n",
              "            color:  #000000;\n",
              "        }#T_d4423b5a_4d18_11ec_aee3_0242ac1c0002row4_col6{\n",
              "            background-color:  #80a3fa;\n",
              "            color:  #000000;\n",
              "        }#T_d4423b5a_4d18_11ec_aee3_0242ac1c0002row4_col7,#T_d4423b5a_4d18_11ec_aee3_0242ac1c0002row7_col6{\n",
              "            background-color:  #4e68d8;\n",
              "            color:  #000000;\n",
              "        }#T_d4423b5a_4d18_11ec_aee3_0242ac1c0002row4_col8{\n",
              "            background-color:  #4f69d9;\n",
              "            color:  #000000;\n",
              "        }#T_d4423b5a_4d18_11ec_aee3_0242ac1c0002row5_col0{\n",
              "            background-color:  #5673e0;\n",
              "            color:  #000000;\n",
              "        }#T_d4423b5a_4d18_11ec_aee3_0242ac1c0002row5_col2,#T_d4423b5a_4d18_11ec_aee3_0242ac1c0002row5_col4{\n",
              "            background-color:  #8db0fe;\n",
              "            color:  #000000;\n",
              "        }#T_d4423b5a_4d18_11ec_aee3_0242ac1c0002row5_col3{\n",
              "            background-color:  #d1dae9;\n",
              "            color:  #000000;\n",
              "        }#T_d4423b5a_4d18_11ec_aee3_0242ac1c0002row5_col6,#T_d4423b5a_4d18_11ec_aee3_0242ac1c0002row8_col3{\n",
              "            background-color:  #7093f3;\n",
              "            color:  #000000;\n",
              "        }#T_d4423b5a_4d18_11ec_aee3_0242ac1c0002row5_col7{\n",
              "            background-color:  #6485ec;\n",
              "            color:  #000000;\n",
              "        }#T_d4423b5a_4d18_11ec_aee3_0242ac1c0002row5_col8{\n",
              "            background-color:  #8badfd;\n",
              "            color:  #000000;\n",
              "        }#T_d4423b5a_4d18_11ec_aee3_0242ac1c0002row6_col0{\n",
              "            background-color:  #485fd1;\n",
              "            color:  #f1f1f1;\n",
              "        }#T_d4423b5a_4d18_11ec_aee3_0242ac1c0002row6_col1{\n",
              "            background-color:  #5470de;\n",
              "            color:  #000000;\n",
              "        }#T_d4423b5a_4d18_11ec_aee3_0242ac1c0002row6_col4{\n",
              "            background-color:  #89acfd;\n",
              "            color:  #000000;\n",
              "        }#T_d4423b5a_4d18_11ec_aee3_0242ac1c0002row6_col5{\n",
              "            background-color:  #6282ea;\n",
              "            color:  #000000;\n",
              "        }#T_d4423b5a_4d18_11ec_aee3_0242ac1c0002row6_col7{\n",
              "            background-color:  #6384eb;\n",
              "            color:  #000000;\n",
              "        }#T_d4423b5a_4d18_11ec_aee3_0242ac1c0002row7_col0{\n",
              "            background-color:  #efcfbf;\n",
              "            color:  #000000;\n",
              "        }#T_d4423b5a_4d18_11ec_aee3_0242ac1c0002row7_col1{\n",
              "            background-color:  #81a4fb;\n",
              "            color:  #000000;\n",
              "        }#T_d4423b5a_4d18_11ec_aee3_0242ac1c0002row7_col5{\n",
              "            background-color:  #3f53c6;\n",
              "            color:  #f1f1f1;\n",
              "        }#T_d4423b5a_4d18_11ec_aee3_0242ac1c0002row7_col8{\n",
              "            background-color:  #7699f6;\n",
              "            color:  #000000;\n",
              "        }#T_d4423b5a_4d18_11ec_aee3_0242ac1c0002row8_col0,#T_d4423b5a_4d18_11ec_aee3_0242ac1c0002row8_col5{\n",
              "            background-color:  #97b8ff;\n",
              "            color:  #000000;\n",
              "        }#T_d4423b5a_4d18_11ec_aee3_0242ac1c0002row8_col1{\n",
              "            background-color:  #cbd8ee;\n",
              "            color:  #000000;\n",
              "        }#T_d4423b5a_4d18_11ec_aee3_0242ac1c0002row8_col2{\n",
              "            background-color:  #4257c9;\n",
              "            color:  #f1f1f1;\n",
              "        }#T_d4423b5a_4d18_11ec_aee3_0242ac1c0002row8_col4{\n",
              "            background-color:  #779af7;\n",
              "            color:  #000000;\n",
              "        }#T_d4423b5a_4d18_11ec_aee3_0242ac1c0002row8_col6{\n",
              "            background-color:  #7b9ff9;\n",
              "            color:  #000000;\n",
              "        }#T_d4423b5a_4d18_11ec_aee3_0242ac1c0002row8_col7{\n",
              "            background-color:  #a3c2fe;\n",
              "            color:  #000000;\n",
              "        }</style><table id=\"T_d4423b5a_4d18_11ec_aee3_0242ac1c0002\" class=\"dataframe\"><thead>    <tr>        <th class=\"blank level0\" ></th>        <th class=\"col_heading level0 col0\" >Pregnancies</th>        <th class=\"col_heading level0 col1\" >Glucose</th>        <th class=\"col_heading level0 col2\" >BloodPressure</th>        <th class=\"col_heading level0 col3\" >SkinThickness</th>        <th class=\"col_heading level0 col4\" >Insulin</th>        <th class=\"col_heading level0 col5\" >BMI</th>        <th class=\"col_heading level0 col6\" >DiabetesPedigreeFunction</th>        <th class=\"col_heading level0 col7\" >Age</th>        <th class=\"col_heading level0 col8\" >Outcome</th>    </tr></thead><tbody>\n",
              "                <tr>\n",
              "                        <th id=\"T_d4423b5a_4d18_11ec_aee3_0242ac1c0002level0_row0\" class=\"row_heading level0 row0\" >Pregnancies</th>\n",
              "                        <td id=\"T_d4423b5a_4d18_11ec_aee3_0242ac1c0002row0_col0\" class=\"data row0 col0\" >1.000000</td>\n",
              "                        <td id=\"T_d4423b5a_4d18_11ec_aee3_0242ac1c0002row0_col1\" class=\"data row0 col1\" >0.129459</td>\n",
              "                        <td id=\"T_d4423b5a_4d18_11ec_aee3_0242ac1c0002row0_col2\" class=\"data row0 col2\" >0.141282</td>\n",
              "                        <td id=\"T_d4423b5a_4d18_11ec_aee3_0242ac1c0002row0_col3\" class=\"data row0 col3\" >-0.081672</td>\n",
              "                        <td id=\"T_d4423b5a_4d18_11ec_aee3_0242ac1c0002row0_col4\" class=\"data row0 col4\" >-0.073535</td>\n",
              "                        <td id=\"T_d4423b5a_4d18_11ec_aee3_0242ac1c0002row0_col5\" class=\"data row0 col5\" >0.017683</td>\n",
              "                        <td id=\"T_d4423b5a_4d18_11ec_aee3_0242ac1c0002row0_col6\" class=\"data row0 col6\" >-0.033523</td>\n",
              "                        <td id=\"T_d4423b5a_4d18_11ec_aee3_0242ac1c0002row0_col7\" class=\"data row0 col7\" >0.544341</td>\n",
              "                        <td id=\"T_d4423b5a_4d18_11ec_aee3_0242ac1c0002row0_col8\" class=\"data row0 col8\" >0.221898</td>\n",
              "            </tr>\n",
              "            <tr>\n",
              "                        <th id=\"T_d4423b5a_4d18_11ec_aee3_0242ac1c0002level0_row1\" class=\"row_heading level0 row1\" >Glucose</th>\n",
              "                        <td id=\"T_d4423b5a_4d18_11ec_aee3_0242ac1c0002row1_col0\" class=\"data row1 col0\" >0.129459</td>\n",
              "                        <td id=\"T_d4423b5a_4d18_11ec_aee3_0242ac1c0002row1_col1\" class=\"data row1 col1\" >1.000000</td>\n",
              "                        <td id=\"T_d4423b5a_4d18_11ec_aee3_0242ac1c0002row1_col2\" class=\"data row1 col2\" >0.152590</td>\n",
              "                        <td id=\"T_d4423b5a_4d18_11ec_aee3_0242ac1c0002row1_col3\" class=\"data row1 col3\" >0.057328</td>\n",
              "                        <td id=\"T_d4423b5a_4d18_11ec_aee3_0242ac1c0002row1_col4\" class=\"data row1 col4\" >0.331357</td>\n",
              "                        <td id=\"T_d4423b5a_4d18_11ec_aee3_0242ac1c0002row1_col5\" class=\"data row1 col5\" >0.221071</td>\n",
              "                        <td id=\"T_d4423b5a_4d18_11ec_aee3_0242ac1c0002row1_col6\" class=\"data row1 col6\" >0.137337</td>\n",
              "                        <td id=\"T_d4423b5a_4d18_11ec_aee3_0242ac1c0002row1_col7\" class=\"data row1 col7\" >0.263514</td>\n",
              "                        <td id=\"T_d4423b5a_4d18_11ec_aee3_0242ac1c0002row1_col8\" class=\"data row1 col8\" >0.466581</td>\n",
              "            </tr>\n",
              "            <tr>\n",
              "                        <th id=\"T_d4423b5a_4d18_11ec_aee3_0242ac1c0002level0_row2\" class=\"row_heading level0 row2\" >BloodPressure</th>\n",
              "                        <td id=\"T_d4423b5a_4d18_11ec_aee3_0242ac1c0002row2_col0\" class=\"data row2 col0\" >0.141282</td>\n",
              "                        <td id=\"T_d4423b5a_4d18_11ec_aee3_0242ac1c0002row2_col1\" class=\"data row2 col1\" >0.152590</td>\n",
              "                        <td id=\"T_d4423b5a_4d18_11ec_aee3_0242ac1c0002row2_col2\" class=\"data row2 col2\" >1.000000</td>\n",
              "                        <td id=\"T_d4423b5a_4d18_11ec_aee3_0242ac1c0002row2_col3\" class=\"data row2 col3\" >0.207371</td>\n",
              "                        <td id=\"T_d4423b5a_4d18_11ec_aee3_0242ac1c0002row2_col4\" class=\"data row2 col4\" >0.088933</td>\n",
              "                        <td id=\"T_d4423b5a_4d18_11ec_aee3_0242ac1c0002row2_col5\" class=\"data row2 col5\" >0.281805</td>\n",
              "                        <td id=\"T_d4423b5a_4d18_11ec_aee3_0242ac1c0002row2_col6\" class=\"data row2 col6\" >0.041265</td>\n",
              "                        <td id=\"T_d4423b5a_4d18_11ec_aee3_0242ac1c0002row2_col7\" class=\"data row2 col7\" >0.239528</td>\n",
              "                        <td id=\"T_d4423b5a_4d18_11ec_aee3_0242ac1c0002row2_col8\" class=\"data row2 col8\" >0.065068</td>\n",
              "            </tr>\n",
              "            <tr>\n",
              "                        <th id=\"T_d4423b5a_4d18_11ec_aee3_0242ac1c0002level0_row3\" class=\"row_heading level0 row3\" >SkinThickness</th>\n",
              "                        <td id=\"T_d4423b5a_4d18_11ec_aee3_0242ac1c0002row3_col0\" class=\"data row3 col0\" >-0.081672</td>\n",
              "                        <td id=\"T_d4423b5a_4d18_11ec_aee3_0242ac1c0002row3_col1\" class=\"data row3 col1\" >0.057328</td>\n",
              "                        <td id=\"T_d4423b5a_4d18_11ec_aee3_0242ac1c0002row3_col2\" class=\"data row3 col2\" >0.207371</td>\n",
              "                        <td id=\"T_d4423b5a_4d18_11ec_aee3_0242ac1c0002row3_col3\" class=\"data row3 col3\" >1.000000</td>\n",
              "                        <td id=\"T_d4423b5a_4d18_11ec_aee3_0242ac1c0002row3_col4\" class=\"data row3 col4\" >0.436783</td>\n",
              "                        <td id=\"T_d4423b5a_4d18_11ec_aee3_0242ac1c0002row3_col5\" class=\"data row3 col5\" >0.392573</td>\n",
              "                        <td id=\"T_d4423b5a_4d18_11ec_aee3_0242ac1c0002row3_col6\" class=\"data row3 col6\" >0.183928</td>\n",
              "                        <td id=\"T_d4423b5a_4d18_11ec_aee3_0242ac1c0002row3_col7\" class=\"data row3 col7\" >-0.113970</td>\n",
              "                        <td id=\"T_d4423b5a_4d18_11ec_aee3_0242ac1c0002row3_col8\" class=\"data row3 col8\" >0.074752</td>\n",
              "            </tr>\n",
              "            <tr>\n",
              "                        <th id=\"T_d4423b5a_4d18_11ec_aee3_0242ac1c0002level0_row4\" class=\"row_heading level0 row4\" >Insulin</th>\n",
              "                        <td id=\"T_d4423b5a_4d18_11ec_aee3_0242ac1c0002row4_col0\" class=\"data row4 col0\" >-0.073535</td>\n",
              "                        <td id=\"T_d4423b5a_4d18_11ec_aee3_0242ac1c0002row4_col1\" class=\"data row4 col1\" >0.331357</td>\n",
              "                        <td id=\"T_d4423b5a_4d18_11ec_aee3_0242ac1c0002row4_col2\" class=\"data row4 col2\" >0.088933</td>\n",
              "                        <td id=\"T_d4423b5a_4d18_11ec_aee3_0242ac1c0002row4_col3\" class=\"data row4 col3\" >0.436783</td>\n",
              "                        <td id=\"T_d4423b5a_4d18_11ec_aee3_0242ac1c0002row4_col4\" class=\"data row4 col4\" >1.000000</td>\n",
              "                        <td id=\"T_d4423b5a_4d18_11ec_aee3_0242ac1c0002row4_col5\" class=\"data row4 col5\" >0.197859</td>\n",
              "                        <td id=\"T_d4423b5a_4d18_11ec_aee3_0242ac1c0002row4_col6\" class=\"data row4 col6\" >0.185071</td>\n",
              "                        <td id=\"T_d4423b5a_4d18_11ec_aee3_0242ac1c0002row4_col7\" class=\"data row4 col7\" >-0.042163</td>\n",
              "                        <td id=\"T_d4423b5a_4d18_11ec_aee3_0242ac1c0002row4_col8\" class=\"data row4 col8\" >0.130548</td>\n",
              "            </tr>\n",
              "            <tr>\n",
              "                        <th id=\"T_d4423b5a_4d18_11ec_aee3_0242ac1c0002level0_row5\" class=\"row_heading level0 row5\" >BMI</th>\n",
              "                        <td id=\"T_d4423b5a_4d18_11ec_aee3_0242ac1c0002row5_col0\" class=\"data row5 col0\" >0.017683</td>\n",
              "                        <td id=\"T_d4423b5a_4d18_11ec_aee3_0242ac1c0002row5_col1\" class=\"data row5 col1\" >0.221071</td>\n",
              "                        <td id=\"T_d4423b5a_4d18_11ec_aee3_0242ac1c0002row5_col2\" class=\"data row5 col2\" >0.281805</td>\n",
              "                        <td id=\"T_d4423b5a_4d18_11ec_aee3_0242ac1c0002row5_col3\" class=\"data row5 col3\" >0.392573</td>\n",
              "                        <td id=\"T_d4423b5a_4d18_11ec_aee3_0242ac1c0002row5_col4\" class=\"data row5 col4\" >0.197859</td>\n",
              "                        <td id=\"T_d4423b5a_4d18_11ec_aee3_0242ac1c0002row5_col5\" class=\"data row5 col5\" >1.000000</td>\n",
              "                        <td id=\"T_d4423b5a_4d18_11ec_aee3_0242ac1c0002row5_col6\" class=\"data row5 col6\" >0.140647</td>\n",
              "                        <td id=\"T_d4423b5a_4d18_11ec_aee3_0242ac1c0002row5_col7\" class=\"data row5 col7\" >0.036242</td>\n",
              "                        <td id=\"T_d4423b5a_4d18_11ec_aee3_0242ac1c0002row5_col8\" class=\"data row5 col8\" >0.292695</td>\n",
              "            </tr>\n",
              "            <tr>\n",
              "                        <th id=\"T_d4423b5a_4d18_11ec_aee3_0242ac1c0002level0_row6\" class=\"row_heading level0 row6\" >DiabetesPedigreeFunction</th>\n",
              "                        <td id=\"T_d4423b5a_4d18_11ec_aee3_0242ac1c0002row6_col0\" class=\"data row6 col0\" >-0.033523</td>\n",
              "                        <td id=\"T_d4423b5a_4d18_11ec_aee3_0242ac1c0002row6_col1\" class=\"data row6 col1\" >0.137337</td>\n",
              "                        <td id=\"T_d4423b5a_4d18_11ec_aee3_0242ac1c0002row6_col2\" class=\"data row6 col2\" >0.041265</td>\n",
              "                        <td id=\"T_d4423b5a_4d18_11ec_aee3_0242ac1c0002row6_col3\" class=\"data row6 col3\" >0.183928</td>\n",
              "                        <td id=\"T_d4423b5a_4d18_11ec_aee3_0242ac1c0002row6_col4\" class=\"data row6 col4\" >0.185071</td>\n",
              "                        <td id=\"T_d4423b5a_4d18_11ec_aee3_0242ac1c0002row6_col5\" class=\"data row6 col5\" >0.140647</td>\n",
              "                        <td id=\"T_d4423b5a_4d18_11ec_aee3_0242ac1c0002row6_col6\" class=\"data row6 col6\" >1.000000</td>\n",
              "                        <td id=\"T_d4423b5a_4d18_11ec_aee3_0242ac1c0002row6_col7\" class=\"data row6 col7\" >0.033561</td>\n",
              "                        <td id=\"T_d4423b5a_4d18_11ec_aee3_0242ac1c0002row6_col8\" class=\"data row6 col8\" >0.173844</td>\n",
              "            </tr>\n",
              "            <tr>\n",
              "                        <th id=\"T_d4423b5a_4d18_11ec_aee3_0242ac1c0002level0_row7\" class=\"row_heading level0 row7\" >Age</th>\n",
              "                        <td id=\"T_d4423b5a_4d18_11ec_aee3_0242ac1c0002row7_col0\" class=\"data row7 col0\" >0.544341</td>\n",
              "                        <td id=\"T_d4423b5a_4d18_11ec_aee3_0242ac1c0002row7_col1\" class=\"data row7 col1\" >0.263514</td>\n",
              "                        <td id=\"T_d4423b5a_4d18_11ec_aee3_0242ac1c0002row7_col2\" class=\"data row7 col2\" >0.239528</td>\n",
              "                        <td id=\"T_d4423b5a_4d18_11ec_aee3_0242ac1c0002row7_col3\" class=\"data row7 col3\" >-0.113970</td>\n",
              "                        <td id=\"T_d4423b5a_4d18_11ec_aee3_0242ac1c0002row7_col4\" class=\"data row7 col4\" >-0.042163</td>\n",
              "                        <td id=\"T_d4423b5a_4d18_11ec_aee3_0242ac1c0002row7_col5\" class=\"data row7 col5\" >0.036242</td>\n",
              "                        <td id=\"T_d4423b5a_4d18_11ec_aee3_0242ac1c0002row7_col6\" class=\"data row7 col6\" >0.033561</td>\n",
              "                        <td id=\"T_d4423b5a_4d18_11ec_aee3_0242ac1c0002row7_col7\" class=\"data row7 col7\" >1.000000</td>\n",
              "                        <td id=\"T_d4423b5a_4d18_11ec_aee3_0242ac1c0002row7_col8\" class=\"data row7 col8\" >0.238356</td>\n",
              "            </tr>\n",
              "            <tr>\n",
              "                        <th id=\"T_d4423b5a_4d18_11ec_aee3_0242ac1c0002level0_row8\" class=\"row_heading level0 row8\" >Outcome</th>\n",
              "                        <td id=\"T_d4423b5a_4d18_11ec_aee3_0242ac1c0002row8_col0\" class=\"data row8 col0\" >0.221898</td>\n",
              "                        <td id=\"T_d4423b5a_4d18_11ec_aee3_0242ac1c0002row8_col1\" class=\"data row8 col1\" >0.466581</td>\n",
              "                        <td id=\"T_d4423b5a_4d18_11ec_aee3_0242ac1c0002row8_col2\" class=\"data row8 col2\" >0.065068</td>\n",
              "                        <td id=\"T_d4423b5a_4d18_11ec_aee3_0242ac1c0002row8_col3\" class=\"data row8 col3\" >0.074752</td>\n",
              "                        <td id=\"T_d4423b5a_4d18_11ec_aee3_0242ac1c0002row8_col4\" class=\"data row8 col4\" >0.130548</td>\n",
              "                        <td id=\"T_d4423b5a_4d18_11ec_aee3_0242ac1c0002row8_col5\" class=\"data row8 col5\" >0.292695</td>\n",
              "                        <td id=\"T_d4423b5a_4d18_11ec_aee3_0242ac1c0002row8_col6\" class=\"data row8 col6\" >0.173844</td>\n",
              "                        <td id=\"T_d4423b5a_4d18_11ec_aee3_0242ac1c0002row8_col7\" class=\"data row8 col7\" >0.238356</td>\n",
              "                        <td id=\"T_d4423b5a_4d18_11ec_aee3_0242ac1c0002row8_col8\" class=\"data row8 col8\" >1.000000</td>\n",
              "            </tr>\n",
              "    </tbody></table>"
            ],
            "text/plain": [
              "<pandas.io.formats.style.Styler at 0x7fc01a9fbb10>"
            ]
          },
          "metadata": {},
          "execution_count": 10
        }
      ]
    },
    {
      "cell_type": "code",
      "metadata": {
        "colab": {
          "base_uri": "https://localhost:8080/"
        },
        "id": "KFDqKGi06QSH",
        "outputId": "c586b3ea-852c-41ae-9002-c00e245a14b8"
      },
      "source": [
        "print(diab_data.isnull().sum())\n",
        "diab_data.dropna(inplace=True)\n"
      ],
      "execution_count": 54,
      "outputs": [
        {
          "output_type": "stream",
          "name": "stdout",
          "text": [
            "Pregnancies                 0\n",
            "Glucose                     0\n",
            "BloodPressure               0\n",
            "SkinThickness               0\n",
            "Insulin                     0\n",
            "BMI                         0\n",
            "DiabetesPedigreeFunction    0\n",
            "Age                         0\n",
            "Outcome                     0\n",
            "dtype: int64\n"
          ]
        }
      ]
    },
    {
      "cell_type": "code",
      "metadata": {
        "id": "zxz1A-fG7Szn",
        "colab": {
          "base_uri": "https://localhost:8080/",
          "height": 419
        },
        "outputId": "f0704efa-384c-4fc4-92f3-b344f62fccf7"
      },
      "source": [
        "diab_data.drop(columns=['Insulin','SkinThickness','Pregnancies'],inplace=True)\n",
        "y= diab_data['Outcome']\n",
        "X= diab_data.drop(columns='Outcome',inplace=False,axis=0)\n",
        "diab_data\n"
      ],
      "execution_count": 55,
      "outputs": [
        {
          "output_type": "execute_result",
          "data": {
            "text/html": [
              "<div>\n",
              "<style scoped>\n",
              "    .dataframe tbody tr th:only-of-type {\n",
              "        vertical-align: middle;\n",
              "    }\n",
              "\n",
              "    .dataframe tbody tr th {\n",
              "        vertical-align: top;\n",
              "    }\n",
              "\n",
              "    .dataframe thead th {\n",
              "        text-align: right;\n",
              "    }\n",
              "</style>\n",
              "<table border=\"1\" class=\"dataframe\">\n",
              "  <thead>\n",
              "    <tr style=\"text-align: right;\">\n",
              "      <th></th>\n",
              "      <th>Glucose</th>\n",
              "      <th>BloodPressure</th>\n",
              "      <th>BMI</th>\n",
              "      <th>DiabetesPedigreeFunction</th>\n",
              "      <th>Age</th>\n",
              "      <th>Outcome</th>\n",
              "    </tr>\n",
              "  </thead>\n",
              "  <tbody>\n",
              "    <tr>\n",
              "      <th>0</th>\n",
              "      <td>148</td>\n",
              "      <td>72</td>\n",
              "      <td>33.6</td>\n",
              "      <td>0.627</td>\n",
              "      <td>50</td>\n",
              "      <td>1</td>\n",
              "    </tr>\n",
              "    <tr>\n",
              "      <th>1</th>\n",
              "      <td>85</td>\n",
              "      <td>66</td>\n",
              "      <td>26.6</td>\n",
              "      <td>0.351</td>\n",
              "      <td>31</td>\n",
              "      <td>0</td>\n",
              "    </tr>\n",
              "    <tr>\n",
              "      <th>2</th>\n",
              "      <td>183</td>\n",
              "      <td>64</td>\n",
              "      <td>23.3</td>\n",
              "      <td>0.672</td>\n",
              "      <td>32</td>\n",
              "      <td>1</td>\n",
              "    </tr>\n",
              "    <tr>\n",
              "      <th>3</th>\n",
              "      <td>89</td>\n",
              "      <td>66</td>\n",
              "      <td>28.1</td>\n",
              "      <td>0.167</td>\n",
              "      <td>21</td>\n",
              "      <td>0</td>\n",
              "    </tr>\n",
              "    <tr>\n",
              "      <th>4</th>\n",
              "      <td>137</td>\n",
              "      <td>40</td>\n",
              "      <td>43.1</td>\n",
              "      <td>2.288</td>\n",
              "      <td>33</td>\n",
              "      <td>1</td>\n",
              "    </tr>\n",
              "    <tr>\n",
              "      <th>...</th>\n",
              "      <td>...</td>\n",
              "      <td>...</td>\n",
              "      <td>...</td>\n",
              "      <td>...</td>\n",
              "      <td>...</td>\n",
              "      <td>...</td>\n",
              "    </tr>\n",
              "    <tr>\n",
              "      <th>763</th>\n",
              "      <td>101</td>\n",
              "      <td>76</td>\n",
              "      <td>32.9</td>\n",
              "      <td>0.171</td>\n",
              "      <td>63</td>\n",
              "      <td>0</td>\n",
              "    </tr>\n",
              "    <tr>\n",
              "      <th>764</th>\n",
              "      <td>122</td>\n",
              "      <td>70</td>\n",
              "      <td>36.8</td>\n",
              "      <td>0.340</td>\n",
              "      <td>27</td>\n",
              "      <td>0</td>\n",
              "    </tr>\n",
              "    <tr>\n",
              "      <th>765</th>\n",
              "      <td>121</td>\n",
              "      <td>72</td>\n",
              "      <td>26.2</td>\n",
              "      <td>0.245</td>\n",
              "      <td>30</td>\n",
              "      <td>0</td>\n",
              "    </tr>\n",
              "    <tr>\n",
              "      <th>766</th>\n",
              "      <td>126</td>\n",
              "      <td>60</td>\n",
              "      <td>30.1</td>\n",
              "      <td>0.349</td>\n",
              "      <td>47</td>\n",
              "      <td>1</td>\n",
              "    </tr>\n",
              "    <tr>\n",
              "      <th>767</th>\n",
              "      <td>93</td>\n",
              "      <td>70</td>\n",
              "      <td>30.4</td>\n",
              "      <td>0.315</td>\n",
              "      <td>23</td>\n",
              "      <td>0</td>\n",
              "    </tr>\n",
              "  </tbody>\n",
              "</table>\n",
              "<p>768 rows × 6 columns</p>\n",
              "</div>"
            ],
            "text/plain": [
              "     Glucose  BloodPressure   BMI  DiabetesPedigreeFunction  Age  Outcome\n",
              "0        148             72  33.6                     0.627   50        1\n",
              "1         85             66  26.6                     0.351   31        0\n",
              "2        183             64  23.3                     0.672   32        1\n",
              "3         89             66  28.1                     0.167   21        0\n",
              "4        137             40  43.1                     2.288   33        1\n",
              "..       ...            ...   ...                       ...  ...      ...\n",
              "763      101             76  32.9                     0.171   63        0\n",
              "764      122             70  36.8                     0.340   27        0\n",
              "765      121             72  26.2                     0.245   30        0\n",
              "766      126             60  30.1                     0.349   47        1\n",
              "767       93             70  30.4                     0.315   23        0\n",
              "\n",
              "[768 rows x 6 columns]"
            ]
          },
          "metadata": {},
          "execution_count": 55
        }
      ]
    },
    {
      "cell_type": "code",
      "metadata": {
        "id": "Am0-P8u4LfaW"
      },
      "source": [
        "X_train,X_valid,y_train,y_valid= train_test_split(X,y,test_size=0.2,random_state=0)"
      ],
      "execution_count": 70,
      "outputs": []
    },
    {
      "cell_type": "markdown",
      "metadata": {
        "id": "9wvFFfwGtcFw"
      },
      "source": [
        "**ML model**"
      ]
    },
    {
      "cell_type": "code",
      "metadata": {
        "id": "6nghx1v_oX4g"
      },
      "source": [
        "model= Sequential([\n",
        "    Dense(200,activation='relu',input_shape=[5]),\n",
        "    BatchNormalization(),\n",
        "    Dense(200,activation='relu'),\n",
        "    BatchNormalization(),\n",
        "    Dense(100,activation='relu'),\n",
        "    BatchNormalization(),\n",
        "    Dense(1,activation='sigmoid')\n",
        "])\n",
        "model.compile(\n",
        "    optimizer='adam',\n",
        "    loss='binary_crossentropy',\n",
        "    metrics=['binary_accuracy']\n",
        ")\n"
      ],
      "execution_count": 80,
      "outputs": []
    },
    {
      "cell_type": "code",
      "metadata": {
        "id": "ApIkMLQFvrY_"
      },
      "source": [
        "history = model.fit(\n",
        "    X_train, y_train,\n",
        "    validation_data=(X_valid, y_valid),\n",
        "    batch_size=25,\n",
        "    epochs=100,\n",
        "    #callbacks=[early_stopping],\n",
        "    verbose=0, # hide the output because we have so many epochs\n",
        ")"
      ],
      "execution_count": 81,
      "outputs": []
    },
    {
      "cell_type": "code",
      "metadata": {
        "colab": {
          "base_uri": "https://localhost:8080/",
          "height": 548
        },
        "id": "TPReGA0RwJJS",
        "outputId": "72ff3a46-013a-4c7e-fd3e-d5fe8cfa69ed"
      },
      "source": [
        "history_df = pd.DataFrame(history.history)\n",
        "# Start the plot at epoch 5\n",
        "history_df.loc[:, ['loss', 'val_loss']].plot()\n",
        "history_df.loc[:, ['binary_accuracy', 'val_binary_accuracy']].plot()\n",
        "\n",
        "print((\"Best Validation Loss: {:0.4f}\" +\\\n",
        "      \"\\nBest Validation Accuracy: {:0.4f}\")\\\n",
        "      .format(history_df['val_loss'].min(), \n",
        "              history_df['val_binary_accuracy'].max()))"
      ],
      "execution_count": 82,
      "outputs": [
        {
          "output_type": "stream",
          "name": "stdout",
          "text": [
            "Best Validation Loss: 0.4134\n",
            "Best Validation Accuracy: 0.8571\n"
          ]
        },
        {
          "output_type": "display_data",
          "data": {
            "image/png": "[encoded data removed]",
            "text/plain": [
              "<Figure size 432x288 with 1 Axes>"
            ]
          },
          "metadata": {
            "needs_background": "light"
          }
        },
        {
          "output_type": "display_data",
          "data": {
            "image/png": "[encoded data removed]",
            "text/plain": [
              "<Figure size 432x288 with 1 Axes>"
            ]
          },
          "metadata": {
            "needs_background": "light"
          }
        }
      ]
    },
    {
      "cell_type": "markdown",
      "metadata": {
        "id": "S8GikmHx5kIl"
      },
      "source": [
        "**Save model**"
      ]
    },
    {
      "cell_type": "code",
      "metadata": {
        "colab": {
          "base_uri": "https://localhost:8080/"
        },
        "id": "PjS7s1Dq3Ah8",
        "outputId": "88d65781-6130-48c5-e654-327b5d1a536c"
      },
      "source": [
        "model.save(\"diabetes.h5\")\n",
        "loaded_model = load_model(\"diabetes.h5\")\n",
        "loss, accuracy = loaded_model.evaluate(X_valid, y_valid)\n",
        "print(loss,accuracy)"
      ],
      "execution_count": 86,
      "outputs": [
        {
          "output_type": "stream",
          "name": "stdout",
          "text": [
            "5/5 [==============================] - 0s 3ms/step - loss: 0.4364 - binary_accuracy: 0.8117\n",
            "0.4364211857318878 0.8116883039474487\n"
          ]
        }
      ]
    },
    {
      "cell_type": "code",
      "metadata": {
        "colab": {
          "base_uri": "https://localhost:8080/"
        },
        "id": "swBlWEvQ7JW8",
        "outputId": "3f6528a0-d3c0-482f-a533-25d6bb5d75e6"
      },
      "source": [
        "model_filename='diabetes.pkl'\n",
        "pickle.dump(model, open(model_filename,'wb'))"
      ],
      "execution_count": 88,
      "outputs": [
        {
          "output_type": "stream",
          "name": "stdout",
          "text": [
            "INFO:tensorflow:Assets written to: ram://e30fac4d-a551-46d6-937c-efb68d1f03ec/assets\n"
          ]
        }
      ]
    }
  ]
}